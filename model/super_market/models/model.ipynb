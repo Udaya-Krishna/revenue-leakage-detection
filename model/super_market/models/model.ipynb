{
 "cells": [
  {
   "cell_type": "code",
   "execution_count": 2,
   "id": "bdf77b0a",
   "metadata": {},
   "outputs": [
    {
     "name": "stdout",
     "output_type": "stream",
     "text": [
      "Leakage_Flag Report:\n",
      "              precision    recall  f1-score   support\n",
      "\n",
      "     Anomaly       0.99      0.86      0.92       259\n",
      "  No Leakage       0.92      1.00      0.96       437\n",
      "\n",
      "    accuracy                           0.95       696\n",
      "   macro avg       0.96      0.93      0.94       696\n",
      "weighted avg       0.95      0.95      0.94       696\n",
      "\n",
      "Anomaly_Type Report:\n",
      "                         precision    recall  f1-score   support\n",
      "\n",
      "      Duplicate Entries       1.00      1.00      1.00        33\n",
      "         Excess Payment       1.00      1.00      1.00        47\n",
      "        Missing Charges       0.98      0.57      0.72        83\n",
      "             No Anomaly       0.92      1.00      0.96       437\n",
      "Payment Status Mismatch       1.00      1.00      1.00        41\n",
      "          Under Payment       1.00      1.00      1.00        55\n",
      "\n",
      "               accuracy                           0.95       696\n",
      "              macro avg       0.98      0.93      0.95       696\n",
      "           weighted avg       0.95      0.95      0.94       696\n",
      "\n"
     ]
    }
   ],
   "source": [
    "import pandas as pd\n",
    "from sklearn.model_selection import train_test_split\n",
    "from sklearn.preprocessing import OneHotEncoder, StandardScaler, LabelEncoder\n",
    "from sklearn.compose import ColumnTransformer\n",
    "from sklearn.pipeline import Pipeline\n",
    "from sklearn.multioutput import MultiOutputClassifier\n",
    "from sklearn.metrics import classification_report\n",
    "from xgboost import XGBClassifier\n",
    "import warnings\n",
    "warnings.filterwarnings(\"ignore\")\n",
    "df=pd.read_csv(\"supermarket_dataset.csv\")\n",
    "\n",
    "# Features (drop targets + identifiers that don't help)\n",
    "X = df.drop(columns=[\"Leakage_Flag\", \"Anomaly_Type\", \"Invoice_Number\", \"Billing_Time\",\"Service_Category\",\"Transaction_Type\",\"Store_Branch\",\"Cashier_ID\",\"Supplier_ID\"])\n",
    "\n",
    "# Encode target columns\n",
    "leakage_encoder = LabelEncoder()\n",
    "anomaly_encoder = LabelEncoder()\n",
    "\n",
    "y = pd.DataFrame({\n",
    "    \"Leakage_Flag\": leakage_encoder.fit_transform(df[\"Leakage_Flag\"]),\n",
    "    \"Anomaly_Type\": anomaly_encoder.fit_transform(df[\"Anomaly_Type\"])\n",
    "})\n",
    "\n",
    "# Identify categorical and numeric columns\n",
    "cat_cols = X.select_dtypes(include=[\"object\"]).columns\n",
    "num_cols = X.select_dtypes(exclude=[\"object\"]).columns\n",
    "\n",
    "# Preprocessor (OneHot for categorical, Scale for numeric)\n",
    "preprocessor = ColumnTransformer(\n",
    "    transformers=[\n",
    "        (\"cat\", OneHotEncoder(handle_unknown=\"ignore\"), cat_cols),\n",
    "        (\"num\", StandardScaler(), num_cols)\n",
    "    ]\n",
    ")\n",
    "\n",
    "# XGBoost Classifier\n",
    "xgb = XGBClassifier(\n",
    "    n_estimators=200,\n",
    "    learning_rate=0.1,\n",
    "    max_depth=6,\n",
    "    subsample=0.8,\n",
    "    colsample_bytree=0.8,\n",
    "    random_state=42,\n",
    "    use_label_encoder=False,\n",
    "    eval_metric=\"mlogloss\"\n",
    ")\n",
    "\n",
    "# Multi-output wrapper\n",
    "multi_xgb = MultiOutputClassifier(xgb)\n",
    "\n",
    "# Build pipeline\n",
    "pipeline = Pipeline([\n",
    "    (\"preprocess\", preprocessor),\n",
    "    (\"clf\", multi_xgb)\n",
    "])\n",
    "\n",
    "# Train-test split\n",
    "X_train, X_test, y_train, y_test = train_test_split(\n",
    "    X, y, test_size=0.2, random_state=42, stratify=y[\"Leakage_Flag\"]\n",
    ")\n",
    "\n",
    "# Fit model\n",
    "pipeline.fit(X_train, y_train)\n",
    "\n",
    "# Predictions (numeric)\n",
    "y_pred = pipeline.predict(X_test)\n",
    "\n",
    "# Convert back to original labels\n",
    "y_pred_df = pd.DataFrame({\n",
    "    \"Leakage_Flag\": leakage_encoder.inverse_transform(y_pred[:, 0]),\n",
    "    \"Anomaly_Type\": anomaly_encoder.inverse_transform(y_pred[:, 1])\n",
    "})\n",
    "\n",
    "y_test_decoded = pd.DataFrame({\n",
    "    \"Leakage_Flag\": leakage_encoder.inverse_transform(y_test[\"Leakage_Flag\"]),\n",
    "    \"Anomaly_Type\": anomaly_encoder.inverse_transform(y_test[\"Anomaly_Type\"])\n",
    "})\n",
    "\n",
    "# Evaluation\n",
    "print(\"Leakage_Flag Report:\")\n",
    "print(classification_report(y_test_decoded[\"Leakage_Flag\"], y_pred_df[\"Leakage_Flag\"]))\n",
    "\n",
    "print(\"Anomaly_Type Report:\")\n",
    "print(classification_report(y_test_decoded[\"Anomaly_Type\"], y_pred_df[\"Anomaly_Type\"]))\n"
   ]
  },
  {
   "cell_type": "code",
   "execution_count": 3,
   "id": "d7cec677",
   "metadata": {},
   "outputs": [
    {
     "data": {
      "text/plain": [
       "Index(['Invoice_Number', 'Customer_ID', 'Service_ID', 'Billing_Date',\n",
       "       'Payment_Status', 'Leakage_Flag', 'Transaction_Type', 'Mode_of_Payment',\n",
       "       'Product_Name', 'Service', 'Product_Category', 'Service_Category',\n",
       "       'Product_Quantity', 'Tax_Amount', 'Actual_Amount', 'Billed_Amount',\n",
       "       'Paid_Amount', 'Balance_Amount', 'Unit_Price', 'Tax_Rate',\n",
       "       'Service_Charge', 'Discount_Amount', 'Store_Branch', 'Cashier_ID',\n",
       "       'Supplier_ID', 'Billing_Time', 'Customer_Type', 'Order_Channel',\n",
       "       'Anomaly_Type', 'Invoice_Num_Int', 'Is_Duplicate',\n",
       "       'actual_billing_amnt'],\n",
       "      dtype='object')"
      ]
     },
     "execution_count": 3,
     "metadata": {},
     "output_type": "execute_result"
    }
   ],
   "source": [
    "df.columns"
   ]
  },
  {
   "cell_type": "code",
   "execution_count": 4,
   "id": "48e3e167",
   "metadata": {},
   "outputs": [
    {
     "data": {
      "text/plain": [
       "(3477, 32)"
      ]
     },
     "execution_count": 4,
     "metadata": {},
     "output_type": "execute_result"
    }
   ],
   "source": [
    "df.shape"
   ]
  },
  {
   "cell_type": "code",
   "execution_count": 8,
   "id": "80d3df92",
   "metadata": {},
   "outputs": [
    {
     "name": "stdout",
     "output_type": "stream",
     "text": [
      "{'Invoice_Num_Int', 'actual_billing_amnt', 'Is_Duplicate'}\n"
     ]
    }
   ],
   "source": [
    "dfc=pd.read_csv(\"revenue_leak_balanced.csv\")\n",
    "missing_cols = set(df.columns) - set(dfc.columns)\n",
    "print(missing_cols)"
   ]
  },
  {
   "cell_type": "code",
   "execution_count": null,
   "id": "0a214ff4",
   "metadata": {},
   "outputs": [],
   "source": []
  }
 ],
 "metadata": {
  "kernelspec": {
   "display_name": "base",
   "language": "python",
   "name": "python3"
  },
  "language_info": {
   "codemirror_mode": {
    "name": "ipython",
    "version": 3
   },
   "file_extension": ".py",
   "mimetype": "text/x-python",
   "name": "python",
   "nbconvert_exporter": "python",
   "pygments_lexer": "ipython3",
   "version": "3.12.3"
  }
 },
 "nbformat": 4,
 "nbformat_minor": 5
}
